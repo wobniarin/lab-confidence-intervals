{
 "cells": [
  {
   "cell_type": "markdown",
   "metadata": {},
   "source": [
    "# Confidence Intervals"
   ]
  },
  {
   "cell_type": "code",
   "execution_count": 45,
   "metadata": {},
   "outputs": [],
   "source": [
    "import pandas as pd\n",
    "import numpy as np \n",
    "import scipy\n",
    "from scipy import stats\n",
    "import math"
   ]
  },
  {
   "cell_type": "markdown",
   "metadata": {},
   "source": [
    "## Challenge 1\n",
    "We want to estimate the average size of the men of a country with a confidence level of 80%. Assuming that the standard deviation of the sizes in the population is 4, get the confidence interval with a sample of men selected randomly, whose heights are:\n",
    "\n",
    "````\n",
    "heights = [167, 167, 168, 168, 168, 169, 171, 172, 173, 175, 175, 175, 177, 182, 195]\n",
    "````\n",
    "\n",
    "**Hint**: function `stats.norm.interval` from `scipy` can help you get through this exercise. "
   ]
  },
  {
   "cell_type": "code",
   "execution_count": 26,
   "metadata": {},
   "outputs": [
    {
     "data": {
      "text/plain": [
       "(172.14308590115726, 174.79024743217607)"
      ]
     },
     "execution_count": 26,
     "metadata": {},
     "output_type": "execute_result"
    }
   ],
   "source": [
    "heights = [167, 167, 168, 168, 168, 169, 171, 172, 173, 175, 175, 175, 177, 182, 195]\n",
    "\n",
    "n=len(heights)\n",
    "sigma = 4\n",
    "sample_mean= np.mean(heights)\n",
    "s= sigma/np.sqrt(n)\n",
    "alpha = 0.80\n",
    "\n",
    "stats.norm.interval(alpha=alpha, loc=sample_mean, scale= s)"
   ]
  },
  {
   "cell_type": "markdown",
   "metadata": {},
   "source": [
    "## Challenge 2 \n",
    "In a sample of 105 shops selected randomly from an area, we note that 27 of them have had losses in this month. Get an interval for the proportion of businesses in the area with losses to a confidence level of 80% and a confidence level of 90%.\n",
    "\n",
    "**Hint**: function `stats.norm.interval` from `scipy` can help you get through this exercise. "
   ]
  },
  {
   "cell_type": "code",
   "execution_count": 15,
   "metadata": {},
   "outputs": [],
   "source": [
    "#Since we have this sample of 105 shops, we can say according to the CLT that the composition of all the 105\n",
    "# shops will follow a normal distribution. \n",
    "\n",
    "#how can we calculate the std? are we following a normal or a bernoulli? :\\ \n",
    "#http://mathworld.wolfram.com/BernoulliDistribution.html\n",
    "#https://stats.stackexchange.com/questions/4756/confidence-interval-for-bernoulli-sampling\n",
    "\n",
    "total_shops=105\n",
    "losses_shops_n=27\n",
    "prop= losses_shops_n/total_shops \n",
    "s = np.sqrt(prop*(1-prop)/total_shops)\n",
    "\n",
    "\n",
    "alpha80 = 0.80 #1-alpha alpha here should be 20. \n",
    "alpha90 = 0.90 #1-alpha alpha here should be 10. \n",
    "\n",
    "\n",
    "CI_80 = stats.norm.interval(alpha=alpha80, loc=prop, scale= s)\n",
    "CI_90 = stats.norm.interval(alpha=alpha90, loc=prop, scale= s)\n"
   ]
  },
  {
   "cell_type": "code",
   "execution_count": 16,
   "metadata": {},
   "outputs": [
    {
     "name": "stdout",
     "output_type": "stream",
     "text": [
      "The CI for 1-alpha of 0.8 is (0.20248138545542083, 0.3118043288302934)\n",
      "The CI for 1-alpha of 0.9 is (0.1869856177645281, 0.3273000965211861)\n"
     ]
    }
   ],
   "source": [
    "print(f\"The CI for 1-alpha of {alpha80} is {CI_80}\")\n",
    "print(f\"The CI for 1-alpha of {alpha90} is {CI_90}\")\n"
   ]
  },
  {
   "cell_type": "markdown",
   "metadata": {},
   "source": [
    "## Challenge 3 - More practice\n",
    "For the same example in challenge 1, calculate a confidence interval for the variance at 90% level.\n",
    "\n",
    "**Hint**: function `stats.chi2.interval` from `scipy` can help you get through this exercise. "
   ]
  },
  {
   "cell_type": "code",
   "execution_count": 67,
   "metadata": {},
   "outputs": [
    {
     "data": {
      "text/plain": [
       "(0.6305030574739044, 2.27273947678391)"
      ]
     },
     "execution_count": 67,
     "metadata": {},
     "output_type": "execute_result"
    }
   ],
   "source": [
    "#In this case, we have the mathematical proof that the variance of a random variable that is independent and\n",
    "#equally distributed follows a chi squared distribution. \n",
    "\n",
    "# the confidence interval for a chi-squared distribution is calculated as in the link below. \n",
    "#http://www.milefoot.com/math/stat/ci-variances.htm\n",
    "#https://faculty.elgin.edu/dkernler/statistics/ch09/9-3.html\n",
    "#https://www.thoughtco.com/interval-for-a-population-variance-3126221\n",
    "\n",
    "\n",
    "n=len(heights)\n",
    "df= n-1\n",
    "std = 4\n",
    "s= std/np.sqrt(n)\n",
    "alpha = 0.90\n",
    "\n",
    "chi_score = stats.chi2.interval(alpha= alpha, df=df) #we calculate the two tails of the chi-squared distribution\n",
    "\n",
    "CI_minus = ((df * s**2)/chi_score[1], (df * s**2)/chi_score[0])\n",
    "CI_minus\n"
   ]
  },
  {
   "cell_type": "markdown",
   "metadata": {},
   "source": [
    "## Challenge 4 - More practice\n",
    "The sulfuric acid content of 7 similar containers is 9.8, 10.2, 10.4, 9.8, 10.0, 10.2 and 9.6 liters. Calculate a 95% confidence interval for the average content of all containers assuming an approximately normal distribution.\n",
    "\n",
    "```\n",
    "acid = [9.8, 10.2, 10.4, 9.8, 10.0, 10.2, 9.6]\n",
    "```\n",
    "\n",
    "**Hint**: function `stats.t.interval` from `scipy` can help you get through this exercise. "
   ]
  },
  {
   "cell_type": "code",
   "execution_count": 20,
   "metadata": {},
   "outputs": [
    {
     "data": {
      "text/plain": [
       "(9.757818534642887, 10.242181465357113)"
      ]
     },
     "execution_count": 20,
     "metadata": {},
     "output_type": "execute_result"
    }
   ],
   "source": [
    "#if we assume an approximately normal distribution we can say that it follows a t-student distribution. \n",
    "\n",
    "sample=[9.8, 10.2, 10.4, 9.8, 10.0, 10.2, 9.6]\n",
    "alpha=0.95\n",
    "n= len(sample)\n",
    "sample_mean = np.mean(sample)\n",
    "std= np.std(sample)\n",
    "t_student_s= std/np.sqrt(n)\n",
    "df= len(sample)-1 #degrees of freedom for a Chi-squared probability distribution\n",
    "\n",
    "stats.t.interval(alpha=alpha, df=df, loc=sample_mean, scale=t_student_s)"
   ]
  },
  {
   "cell_type": "markdown",
   "metadata": {},
   "source": [
    "## Bonus Challenge\n",
    "The error level or sampling error for the first challenge is given by the following expression:\n",
    "$$Error = z_{\\frac{\\alpha}{2}}\\frac{\\sigma}{\\sqrt n}$$\n",
    "Where z represents the value for N(0,1)\n",
    "\n",
    "\n",
    "Suppose that with the previous data of challenge 1, and with a confidence level of\n",
    "99% (that is, almost certainly) we want to estimate the average population size, so that the error level committed is not greater than half a centimeter.\n",
    "\n",
    "#### 1.- Determine what size the selected sample of men should be."
   ]
  },
  {
   "cell_type": "code",
   "execution_count": 47,
   "metadata": {
    "scrolled": false
   },
   "outputs": [
    {
     "data": {
      "text/plain": [
       "2.5758293035489004"
      ]
     },
     "execution_count": 47,
     "metadata": {},
     "output_type": "execute_result"
    }
   ],
   "source": [
    "#we find here the left tail and the right tail for a normal distribution centered at 0 with std of 1. \n",
    "Z_alpha2 = stats.norm.interval(alpha=0.99)[1] #We choose the right side tail, since it is positive. \n",
    "Z_alpha2"
   ]
  },
  {
   "cell_type": "markdown",
   "metadata": {},
   "source": [
    "from the equation above we can isolate the n (sample size)\n",
    "$$n = (z_{\\frac{\\alpha}{2}}\\frac{\\sigma}{Error})^2$$\n",
    "\n"
   ]
  },
  {
   "cell_type": "code",
   "execution_count": 48,
   "metadata": {},
   "outputs": [],
   "source": [
    "err = 0.5\n",
    "\n",
    "sample_size = (Z_alpha2 * sigma/err)**2"
   ]
  },
  {
   "cell_type": "code",
   "execution_count": 49,
   "metadata": {},
   "outputs": [
    {
     "name": "stdout",
     "output_type": "stream",
     "text": [
      "The minimum sample size to have an error lower than 0.5 with a CI of 99% should be 425\n"
     ]
    }
   ],
   "source": [
    "print(f\"The minimum sample size to have an error lower than 0.5 with a CI of 99% should be {math.ceil(sample_size)}\")"
   ]
  },
  {
   "cell_type": "markdown",
   "metadata": {},
   "source": [
    "#### 2.- For the second challenge, we have the following error:\n",
    "$$ Error = z_{\\frac{\\alpha}{2}}\\sqrt{\\frac{p\\times q}{n}} $$\n",
    "#### Determine the sample size required to not exceed an error of 1% with a confidence of 80%."
   ]
  },
  {
   "cell_type": "code",
   "execution_count": 50,
   "metadata": {},
   "outputs": [],
   "source": [
    "#We will follow the same procedure as we did before. \n",
    "\n",
    "## Challenge 2 variables. \n",
    "total_shops=105\n",
    "losses_shops_n=27\n",
    "p= losses_shops_n/total_shops \n",
    "\n",
    "q = 1-p\n",
    "\n",
    "# Bonus challenge sample size calculation\n",
    "\n",
    "Z_alpha2 = stats.norm.interval(alpha=0.8)[1]\n",
    "err = 0.01\n",
    "sample_size = ((Z_alpha2**2)*p*q)/(err**2)"
   ]
  },
  {
   "cell_type": "code",
   "execution_count": 52,
   "metadata": {},
   "outputs": [
    {
     "name": "stdout",
     "output_type": "stream",
     "text": [
      "The minimum sample size to have an error lower than 1% with a CI of 80% should be 3138\n"
     ]
    }
   ],
   "source": [
    "print(f\"The minimum sample size to have an error lower than 1% with a CI of 80% should be {math.ceil(sample_size)}\")"
   ]
  },
  {
   "cell_type": "markdown",
   "metadata": {},
   "source": [
    "## Bonus Challenge\n",
    "\n",
    "Let's consider the following problem:\n",
    "\n",
    "Build a confidence interval of 94% for the real difference between the durations of two brands of spotlights, if a sample of 40 spotlights taken randomly from the first mark gave an average duration of 418 hours, and a sample of 50 bulbs of another brand gave a duration average of 402 hours. The standard deviations of the two\n",
    "populations are 26 hours and 22 hours, respectively.\n",
    "\n",
    "Sometimes, we will be interested in the difference of two different groups of random variables. We can also build a confidence interval for that! We have some different cases regarding the variance but for this specific case (the variance are different and known), we have that:\n",
    "\n",
    "$$\\overline{X} - \\overline{Y}  \\sim N(\\mu_{X} - \\mu_{Y} , \\sqrt{\\frac{\\sigma_{X}^2}{n_X}+\\frac{\\sigma_{Y}^2}{n_Y}})$$\n",
    "\n",
    "Solve the problem with this information."
   ]
  },
  {
   "cell_type": "code",
   "execution_count": 66,
   "metadata": {},
   "outputs": [
    {
     "data": {
      "text/plain": [
       "(6.303419026585921, 25.69658097341408)"
      ]
     },
     "execution_count": 66,
     "metadata": {},
     "output_type": "execute_result"
    }
   ],
   "source": [
    "#sample 1\n",
    "n1 = 40\n",
    "X_smean1 = 418\n",
    "sigma1 = 26\n",
    "\n",
    "#sample 2\n",
    "n2 = 50\n",
    "Y_smean2 = 402\n",
    "sigma2 = 22\n",
    "\n",
    "#confidence interval information \n",
    "alpha=0.94\n",
    "\n",
    "#we define a new random variable that will be the difference between X and Y. \n",
    "\n",
    "\n",
    "Z_smean = X_smean1 - Y_smean2\n",
    "\n",
    "Z_std = np.sqrt((sigma1**2/n1)+(sigma2**2/n2))\n",
    "\n",
    "## With this new random variable we can calculate the normal statistic and the confidence interval \n",
    "\n",
    "stats.norm.interval(alpha=alpha, loc=Z_smean, scale=Z_std)\n"
   ]
  },
  {
   "cell_type": "code",
   "execution_count": null,
   "metadata": {},
   "outputs": [],
   "source": []
  }
 ],
 "metadata": {
  "kernelspec": {
   "display_name": "Python 3",
   "language": "python",
   "name": "python3"
  },
  "language_info": {
   "codemirror_mode": {
    "name": "ipython",
    "version": 3
   },
   "file_extension": ".py",
   "mimetype": "text/x-python",
   "name": "python",
   "nbconvert_exporter": "python",
   "pygments_lexer": "ipython3",
   "version": "3.7.3"
  }
 },
 "nbformat": 4,
 "nbformat_minor": 2
}
